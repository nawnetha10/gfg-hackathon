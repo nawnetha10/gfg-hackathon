{
 "cells": [
  {
   "cell_type": "code",
   "execution_count": 1,
   "id": "a1cbea5f-ce5c-4c89-b651-68ba68ad6a4f",
   "metadata": {},
   "outputs": [],
   "source": [
    "import pandas as pd"
   ]
  },
  {
   "cell_type": "code",
   "execution_count": 4,
   "id": "021a761c-8449-4513-824d-c0798a5cdd88",
   "metadata": {},
   "outputs": [
    {
     "name": "stdout",
     "output_type": "stream",
     "text": [
      "Swiggy is listed in 9 cities.\n"
     ]
    }
   ],
   "source": [
    "#How many cities (doesnotncluding subregions) where Swiggy is having its restaurants listed?\n",
    "\n",
    "def count_unique_cities(csv_file):\n",
    "  \n",
    "    df = pd.read_csv(csv_file)\n",
    "\n",
    "    \n",
    "    unique_cities = df['city'].unique()\n",
    "\n",
    "    \n",
    "    num_cities = len(unique_cities)\n",
    "\n",
    "    return num_cities\n",
    "\n",
    "if __name__ == \"__main__\":\n",
    "    csv_file = 'Swiggy_dataset.csv'\n",
    "    num_cities = count_unique_cities(csv_file)\n",
    "    print(f\"Swiggy is listed in {num_cities} cities.\")\n"
   ]
  },
  {
   "cell_type": "code",
   "execution_count": 6,
   "id": "6210d149-e811-4932-805e-e09941724a50",
   "metadata": {},
   "outputs": [
    {
     "name": "stdout",
     "output_type": "stream",
     "text": [
      "Swiggy is listed in 888 cities and subregions.\n"
     ]
    }
   ],
   "source": [
    "#How many cities  (don't include subregions) where Swiggy is having their restaurants listed?\n",
    "import pandas as pd\n",
    "\n",
    "def count_unique_locations(csv_file):\n",
    "   \n",
    "    df = pd.read_csv(csv_file)\n",
    "\n",
    "    locations = df['city'].fillna('') + ', ' + df['area'].fillna('')\n",
    "\n",
    "    unique_locations = locations.unique()\n",
    "\n",
    "    num_locations = len(unique_locations)\n",
    "\n",
    "    return num_locations\n",
    "\n",
    "if __name__ == \"__main__\":\n",
    "    # Replace 'restaurants.csv' with the name of your CSV file containing the cities and subregions\n",
    "    csv_file = 'Swiggy_dataset.csv'\n",
    "    num_locations = count_unique_locations(csv_file)\n",
    "    print(f\"Swiggy is listed in {num_locations} cities and subregions.\")\n"
   ]
  },
  {
   "cell_type": "code",
   "execution_count": 12,
   "id": "33d48b1a-81e3-4b77-862f-4184442aeeab",
   "metadata": {},
   "outputs": [
    {
     "name": "stdout",
     "output_type": "stream",
     "text": [
      "The subregion of Delhi with the maximum number of restaurants listed on Swiggy is 'Rohini' with 254 restaurants.\n"
     ]
    }
   ],
   "source": [
    "#he Subregion of Delhi with the maximum number of restaurants listed on Swiggy?\n",
    "\n",
    "import pandas as pd\n",
    "\n",
    "def find_max_restaurants_subregion(csv_file):\n",
    "   \n",
    "    df = pd.read_csv(csv_file)\n",
    "\n",
    "   \n",
    "    delhi_data = df[df['city'] == 'Delhi']\n",
    "\n",
    "    \n",
    "    subregion_restaurant_counts = delhi_data['area'].value_counts()\n",
    "\n",
    "    max_subregion = subregion_restaurant_counts.idxmax()\n",
    "    max_restaurants_count = subregion_restaurant_counts.max()\n",
    "\n",
    "    return max_subregion, max_restaurants_count\n",
    "\n",
    "if __name__ == \"__main__\":\n",
    "    csv_file = 'Swiggy_dataset.csv'\n",
    "    max_subregion, max_restaurants_count = find_max_restaurants_subregion(csv_file)\n",
    "    print(f\"The subregion of Delhi with the maximum number of restaurants listed on Swiggy is '{max_subregion}' with {max_restaurants_count} restaurants.\")\n"
   ]
  },
  {
   "cell_type": "code",
   "execution_count": 15,
   "id": "b50c3c99-b8ef-47bb-92ba-c6fb6982834a",
   "metadata": {},
   "outputs": [
    {
     "name": "stdout",
     "output_type": "stream",
     "text": [
      "Top 5 Most Expensive Cities:\n",
      "city\n",
      "Hyderabad    ₹400 FOR TWO₹300 FOR TWO₹300 FOR TWO₹400 FOR T...\n",
      "Mumbai       ₹400 FOR TWO₹200 FOR TWO₹400 FOR TWO₹300 FOR T...\n",
      "Bangalore    ₹400 FOR TWO₹150 FOR TWO₹350 FOR TWO₹200 FOR T...\n",
      "Surat        ₹300 FOR TWO₹300 FOR TWO₹350 FOR TWO₹300 FOR T...\n",
      "Kolkata      ₹300 FOR TWO₹200 FOR TWO₹100 FOR TWO₹400 FOR T...\n",
      "Name: costForTwoStrings, dtype: object\n"
     ]
    }
   ],
   "source": [
    "#Name the top 5 Most Expensive Cities in the Datasets\n",
    "import pandas as pd\n",
    "\n",
    "def find_top_5_most_expensive_cities(df):\n",
    "   \n",
    "    avg_expenses = df.groupby('city')['costForTwoStrings'].sum()\n",
    "\n",
    "    sorted_avg_expenses = avg_expenses.sort_values(ascending=False)\n",
    "\n",
    "    top_5_cities = sorted_avg_expenses.head(5)\n",
    "\n",
    "    return top_5_cities\n",
    "\n",
    "if __name__ == \"__main__\":\n",
    "    csv_file = 'Swiggy_dataset.csv'\n",
    "    df = pd.read_csv(csv_file)\n",
    "    top_5_cities = find_top_5_most_expensive_cities(df)\n",
    "\n",
    "    print(\"Top 5 Most Expensive Cities:\")\n",
    "    print(top_5_cities)\n"
   ]
  },
  {
   "cell_type": "code",
   "execution_count": 17,
   "id": "2215f0a6-23c6-4567-8744-9264500c30bb",
   "metadata": {},
   "outputs": [
    {
     "name": "stdout",
     "output_type": "stream",
     "text": [
      "Top 5 Restaurants with Maximum Ratings:\n",
      "                          name totalRatingsString\n",
      "8690  Waterbomb pani-puri shop    Too Few Ratings\n",
      "5498          ICECREAM STATION    Too Few Ratings\n",
      "2300       The Shawarma Makers    Too Few Ratings\n",
      "5529           Khana Americana    Too Few Ratings\n",
      "5525               Bangaliyana    Too Few Ratings\n",
      "\n",
      "Top 5 Restaurants with Minimum Ratings:\n",
      "                      name totalRatingsString\n",
      "6894        De Goa Kitchen       100+ ratings\n",
      "4890            Snax Point       100+ ratings\n",
      "6897  Suraj Chinese Corner       100+ ratings\n",
      "6899           Al Baik.com       100+ ratings\n",
      "4345       Triple a bakery       100+ ratings\n"
     ]
    }
   ],
   "source": [
    "\n",
    "#List out the top 5 Restaurants with Maximum & minimum ratings throughout the dataset.\n",
    "import pandas as pd\n",
    "\n",
    "def top_5_max_min_ratings(csv_file):\n",
    "    df = pd.read_csv(csv_file)\n",
    "\n",
    "    df_sorted = df.sort_values(by='totalRatingsString', ascending=False)\n",
    "    top_5_max_ratings = df_sorted.head(5)\n",
    "\n",
    "    top_5_min_ratings = df_sorted.tail(5)\n",
    "\n",
    "    return top_5_max_ratings, top_5_min_ratings\n",
    "\n",
    "if __name__ == \"__main__\":\n",
    "    \n",
    "    csv_file = 'Swiggy_dataset.csv'\n",
    "    top_5_max, top_5_min = top_5_max_min_ratings(csv_file)\n",
    "\n",
    "    print(\"Top 5 Restaurants with Maximum Ratings:\")\n",
    "    print(top_5_max[['name', 'totalRatingsString']])\n",
    "\n",
    "    print(\"\\nTop 5 Restaurants with Minimum Ratings:\")\n",
    "    print(top_5_min[['name', 'totalRatingsString']])\n"
   ]
  },
  {
   "cell_type": "code",
   "execution_count": 18,
   "id": "3fd161a4-ff28-47d5-838e-f84671d38227",
   "metadata": {},
   "outputs": [
    {
     "name": "stdout",
     "output_type": "stream",
     "text": [
      "Top 5 Restaurants with Maximum Ratings:\n",
      "                    name avgRating\n",
      "2250              Afresh         5\n",
      "6225         Cafe Kokomo         5\n",
      "6042               SNAXX         5\n",
      "7060     Get In My Belly         5\n",
      "7059  The Asian Pavilion         5\n",
      "\n",
      "Top 5 Restaurants with Minimum Ratings:\n",
      "                          name avgRating\n",
      "6023                CAKE DAY 7        --\n",
      "6024               Al-Baik.com        --\n",
      "6025        JOLLYBEE FAST FOOD        --\n",
      "6028       French fries Fusion        --\n",
      "8690  Waterbomb pani-puri shop        --\n"
     ]
    }
   ],
   "source": [
    "\n",
    "import pandas as pd\n",
    "\n",
    "def top_5_max_min_ratings(csv_file):\n",
    "    df = pd.read_csv(csv_file)\n",
    "\n",
    "    df_sorted = df.sort_values(by='avgRating', ascending=False)\n",
    "\n",
    "    top_5_max_ratings = df_sorted.head(5)\n",
    "\n",
    "    top_5_min_ratings = df_sorted.tail(5)\n",
    "\n",
    "    return top_5_max_ratings, top_5_min_ratings\n",
    "\n",
    "if __name__ == \"__main__\":\n",
    "    csv_file = 'Swiggy_dataset.csv'\n",
    "    top_5_max, top_5_min = top_5_max_min_ratings(csv_file)\n",
    "\n",
    "    print(\"Top 5 Restaurants with Maximum Ratings:\")\n",
    "    print(top_5_max[['name', 'avgRating']])\n",
    "\n",
    "    print(\"\\nTop 5 Restaurants with Minimum Ratings:\")\n",
    "    print(top_5_min[['name', 'avgRating']])\n"
   ]
  },
  {
   "cell_type": "code",
   "execution_count": 19,
   "id": "f9dafc47-ef4c-46e4-be63-24bc5dafdde6",
   "metadata": {},
   "outputs": [
    {
     "name": "stdout",
     "output_type": "stream",
     "text": [
      "Top 5 Cities with the Highest Number of Restaurants Listed:\n",
      "city\n",
      "Kolkata      1347\n",
      "Mumbai       1278\n",
      "Chennai      1107\n",
      "Pune         1093\n",
      "Hyderabad    1075\n",
      "Name: count, dtype: int64\n"
     ]
    }
   ],
   "source": [
    "Name of top 5 cities with the highest number of restaurants listed.\n",
    "import pandas as pd\n",
    "\n",
    "def top_5_cities_with_highest_restaurants(csv_file):\n",
    "    df = pd.read_csv(csv_file)\n",
    "    city_restaurant_counts = df['city'].value_counts()\n",
    "\n",
    "    top_5_cities = city_restaurant_counts.head(5)\n",
    "\n",
    "    return top_5_cities\n",
    "\n",
    "if __name__ == \"__main__\":\n",
    "    csv_file = 'Swiggy_dataset.csv'\n",
    "    top_5_cities = top_5_cities_with_highest_restaurants(csv_file)\n",
    "    print(\"Top 5 Cities with the Highest Number of Restaurants Listed:\")\n",
    "    print(top_5_cities)\n"
   ]
  },
  {
   "cell_type": "code",
   "execution_count": 20,
   "id": "eaa46101-7fdb-4121-b955-2e1699cf3456",
   "metadata": {},
   "outputs": [
    {
     "name": "stdout",
     "output_type": "stream",
     "text": [
      "Top 10 Cities with the Highest Number of Restaurants Listed:\n",
      "city\n",
      "Kolkata      1347\n",
      "Mumbai       1278\n",
      "Chennai      1107\n",
      "Pune         1093\n",
      "Hyderabad    1075\n",
      "Bangalore     946\n",
      "Ahmedabad     719\n",
      "Delhi         613\n",
      "Surat         513\n",
      "Name: count, dtype: int64\n"
     ]
    }
   ],
   "source": [
    "#Top 10 cities as per the number of restaurants listed?\n",
    "import pandas as pd\n",
    "\n",
    "def top_10_cities_with_highest_restaurants(csv_file):\n",
    "    df = pd.read_csv(csv_file)\n",
    "\n",
    "    city_restaurant_counts = df['city'].value_counts()\n",
    "\n",
    "    top_10_cities = city_restaurant_counts.head(10)\n",
    "\n",
    "    return top_10_cities\n",
    "\n",
    "if __name__ == \"__main__\":\n",
    "    csv_file = 'Swiggy_dataset.csv'\n",
    "    top_10_cities = top_10_cities_with_highest_restaurants(csv_file)\n",
    "    print(\"Top 10 Cities with the Highest Number of Restaurants Listed:\")\n",
    "    print(top_10_cities)\n"
   ]
  },
  {
   "cell_type": "code",
   "execution_count": 5,
   "id": "c377df74-26ed-4a2e-a844-bc619413b1e6",
   "metadata": {},
   "outputs": [
    {
     "name": "stdout",
     "output_type": "stream",
     "text": [
      "The area in Delhi with the least expensive restaurant in terms of cost is 'Pitam Pura'.\n"
     ]
    }
   ],
   "source": [
    "#Which SubRegion in Delhi is having the least expensive restaurant in terms of cost?\n",
    "import pandas as pd\n",
    "\n",
    "def area_with_least_expensive_restaurant(csv_file):\n",
    "    df = pd.read_csv(csv_file)\n",
    "\n",
    "    delhi_data = df[df['city'] == 'Delhi']\n",
    "\n",
    "    delhi_data_sorted = delhi_data.sort_values(by='costForTwoStrings', ascending=True)\n",
    "\n",
    "    area_with_least_expensive_restaurant = delhi_data_sorted['area'].iloc[0]\n",
    "\n",
    "    return area_with_least_expensive_restaurant\n",
    "\n",
    "if __name__ == \"__main__\":\n",
    "    csv_file = 'Swiggy_dataset.csv'\n",
    "    least_expensive_area = area_with_least_expensive_restaurant(csv_file)\n",
    "\n",
    "    print(f\"The area in Delhi with the least expensive restaurant in terms of cost is '{least_expensive_area}'.\")\n",
    "\n"
   ]
  },
  {
   "cell_type": "code",
   "execution_count": 27,
   "id": "9aac2851-51c3-440d-baa5-8e14d226a719",
   "metadata": {},
   "outputs": [
    {
     "name": "stdout",
     "output_type": "stream",
     "text": [
      "La Pino'z Pizza\n",
      "Baskin Robbins\n",
      "Subway\n",
      "NIC Natural Ice Creams\n",
      "Behrouz Biryani\n"
     ]
    }
   ],
   "source": [
    " #Top 5 most popular restaurant chains in India?\n",
    "for name in df['name'].value_counts().sort_values(ascending=False).head(5).index:\n",
    "    print(name)\n",
    "\n"
   ]
  },
  {
   "cell_type": "code",
   "execution_count": 69,
   "id": "689e11f0-d3b9-447a-876f-2475386ea38e",
   "metadata": {},
   "outputs": [
    {
     "name": "stdout",
     "output_type": "stream",
     "text": [
      "Top 10 Restaurants in Bangalore with Maximum Ratings:\n",
      "Restaurant: Tricky Shakes, Ratings: 5\n",
      "Restaurant: CREAMS & BITES, Ratings: 5\n",
      "Restaurant: Frosty Crumble, Ratings: 4.9\n",
      "Restaurant: Hokart - Soori Chaats, Ratings: 4.9\n",
      "Restaurant: ROYCE' Chocolate, Ratings: 4.9\n",
      "Restaurant: Keventers Ice Creamery, Ratings: 4.9\n",
      "Restaurant: Subbudus The SnackStop ( Eswaris Homemade snacks ), Ratings: 4.8\n",
      "Restaurant: Sri Krishna Sweets, Ratings: 4.7\n",
      "Restaurant: Chaayos Meri Wali Chai, Ratings: 4.7\n",
      "Restaurant: Artinci - Indulge Guilt Free!, Ratings: 4.7\n"
     ]
    }
   ],
   "source": [
    "#Top 10 Restaurants with Maximum Ratings in Banglore\n",
    "\n",
    "\n",
    "import pandas as pd\n",
    "\n",
    "def top_10_restaurants_in_bangalore_by_ratings(csv_file):\n",
    "    \n",
    "    bangalore_data = df[df['city'] == 'Bangalore']\n",
    "\n",
    "    bangalore_data_sorted = bangalore_data.sort_values(by='avgRating', ascending=False)\n",
    "\n",
    "    top_10_bangalore_restaurants = bangalore_data_sorted.head(10)\n",
    "\n",
    "    top_10_bangalore_restaurants_list = top_10_bangalore_restaurants.to_dict(orient='records')\n",
    "\n",
    "    return top_10_bangalore_restaurants_list\n",
    "\n",
    "if __name__ == \"__main__\":\n",
    "    csv_file = 'Swiggy_dataset.csv'\n",
    "    df  = pd.read_csv(csv_file)\n",
    "    top_10_bangalore_restaurants = top_10_restaurants_in_bangalore_by_ratings(df)\n",
    "   \n",
    "    print(\"Top 10 Restaurants in Bangalore with Maximum Ratings:\")\n",
    "    for restaurant in top_10_bangalore_restaurants:\n",
    "        print(f\"Restaurant: {restaurant['name']}, Ratings: {restaurant['avgRating']}\")\n"
   ]
  },
  {
   "cell_type": "code",
   "execution_count": 12,
   "id": "7fc4c898-4bd2-49e4-8a32-52bdaf3e9eb0",
   "metadata": {},
   "outputs": [
    {
     "name": "stdout",
     "output_type": "stream",
     "text": [
      "Restaurant in Pune with the Most Number of People Visiting (Based on Total Ratings):\n"
     ]
    }
   ],
   "source": [
    "import pandas as pd\n",
    "\n",
    "def most_visitors(csv_file):\n",
    "    pune_data = df[df['City'] == 'Pune']\n",
    "\n",
    "    pune_data_sorted = pune_data.sort_values(by='avgRating', ascending=False)\n",
    "\n",
    "    # Get the restaurant in Pune with the most number of people visiting based on total rating\n",
    "    visitors = pune_data_sorted.head(5)\n",
    "    top_5 = visitors.to_dict(orient='records')\n",
    "    return top_5\n",
    "\n",
    "if __name__ == \"__main__\":\n",
    "    csv_file = 'Swiggy_dataset.csv'\n",
    "    df = pd.read_csv(csv_file)\n",
    "    pune_vis = most_visitors(df)\n",
    "\n",
    "    print(\"Restaurant in Pune with the Most Number of People Visiting (Based on Total Ratings):\")\n",
    "    for restaurant in pune_vis:\n",
    "        print(f\"Restaurant: {restaurant['name']}, Ratings: {restaurant['avgRating']}\")\n",
    "    \n",
    "   \n"
   ]
  },
  {
   "cell_type": "code",
   "execution_count": 69,
   "id": "7141bf01-109a-4ad9-ae60-2efab35e94ed",
   "metadata": {},
   "outputs": [
    {
     "name": "stdout",
     "output_type": "stream",
     "text": [
      "Top 10 Restaurants in Bangalore with Maximum Ratings:\n",
      "Restaurant: Tricky Shakes, Ratings: 5\n",
      "Restaurant: CREAMS & BITES, Ratings: 5\n",
      "Restaurant: Frosty Crumble, Ratings: 4.9\n",
      "Restaurant: Hokart - Soori Chaats, Ratings: 4.9\n",
      "Restaurant: ROYCE' Chocolate, Ratings: 4.9\n",
      "Restaurant: Keventers Ice Creamery, Ratings: 4.9\n",
      "Restaurant: Subbudus The SnackStop ( Eswaris Homemade snacks ), Ratings: 4.8\n",
      "Restaurant: Sri Krishna Sweets, Ratings: 4.7\n",
      "Restaurant: Chaayos Meri Wali Chai, Ratings: 4.7\n",
      "Restaurant: Artinci - Indulge Guilt Free!, Ratings: 4.7\n"
     ]
    }
   ],
   "source": [
    "#Top 10 Restaurants with Maximum Ratings in Banglore\n",
    "\n",
    "\n",
    "import pandas as pd\n",
    "\n",
    "def top_10_restaurants_in_bangalore_by_ratings(csv_file):\n",
    "    \n",
    "    bangalore_data = df[df['city'] == 'Bangalore']\n",
    "\n",
    "    bangalore_data_sorted = bangalore_data.sort_values(by='avgRating', ascending=False)\n",
    "\n",
    "    top_10_bangalore_restaurants = bangalore_data_sorted.head(10)\n",
    "\n",
    "    top_10_bangalore_restaurants_list = top_10_bangalore_restaurants.to_dict(orient='records')\n",
    "\n",
    "    return top_10_bangalore_restaurants_list\n",
    "\n",
    "if __name__ == \"__main__\":\n",
    "    csv_file = 'Swiggy_dataset.csv'\n",
    "    df  = pd.read_csv(csv_file)\n",
    "    top_10_bangalore_restaurants = top_10_restaurants_in_bangalore_by_ratings(df)\n",
    "   \n",
    "    print(\"Top 10 Restaurants in Bangalore with Maximum Ratings:\")\n",
    "    for restaurant in top_10_bangalore_restaurants:\n",
    "        print(f\"Restaurant: {restaurant['name']}, Ratings: {restaurant['avgRating']}\")\n"
   ]
  },
  {
   "cell_type": "code",
   "execution_count": null,
   "id": "cd4e074b-de8b-4edd-9386-7e14d56739e7",
   "metadata": {},
   "outputs": [],
   "source": []
  }
 ],
 "metadata": {
  "kernelspec": {
   "display_name": "Python 3 (ipykernel)",
   "language": "python",
   "name": "python3"
  },
  "language_info": {
   "codemirror_mode": {
    "name": "ipython",
    "version": 3
   },
   "file_extension": ".py",
   "mimetype": "text/x-python",
   "name": "python",
   "nbconvert_exporter": "python",
   "pygments_lexer": "ipython3",
   "version": "3.11.4"
  }
 },
 "nbformat": 4,
 "nbformat_minor": 5
}
